{
  "nbformat": 4,
  "nbformat_minor": 2,
  "metadata": {
    "colab": {
      "name": "data_pipeline.ipynb",
      "provenance": []
    },
    "kernelspec": {
      "name": "python3",
      "display_name": "Python 3.9.6 64-bit ('pdal': conda)"
    },
    "language_info": {
      "name": "python",
      "version": "3.9.6",
      "mimetype": "text/x-python",
      "codemirror_mode": {
        "name": "ipython",
        "version": 3
      },
      "pygments_lexer": "ipython3",
      "nbconvert_exporter": "python",
      "file_extension": ".py"
    },
    "interpreter": {
      "hash": "c7204934ba84b26f775e56ec588025210f8f48a5e47c2406a684068e77ee7745"
    }
  },
  "cells": [
    {
      "cell_type": "markdown",
      "source": [
        "# Fetch Data"
      ],
      "metadata": {}
    },
    {
      "cell_type": "code",
      "execution_count": 1,
      "source": [
        "import sys\n",
        "import os\n",
        "sys.path.append(os.path.abspath(os.path.join('../')))\n",
        "import pdal\n",
        "import json\n",
        "from scripts.data_fetcher import FetchData\n",
        "import pprint\n",
        "pp = pprint.PrettyPrinter(indent=14)\n"
      ],
      "outputs": [],
      "metadata": {
        "colab": {
          "base_uri": "https://localhost:8080/",
          "height": 476
        },
        "id": "Kk0_-KMsAI6w",
        "outputId": "17583181-1f26-4c0e-a099-3f882598a8af"
      }
    },
    {
      "cell_type": "markdown",
      "source": [
        "## Explore the data \n",
        "Taking a sample laz and ept.json file to explore what is inside"
      ],
      "metadata": {}
    },
    {
      "cell_type": "code",
      "execution_count": 2,
      "source": [
        "with open(\"data/ept.json\",'r') as ept_file:\n",
        "    ept_json = json.load(ept_file)\n",
        "\n",
        "pp.pprint(ept_json)\n"
      ],
      "outputs": [
        {
          "output_type": "stream",
          "name": "stdout",
          "text": [
            "{             'bounds': [-11752672, 4740364, -68269, -11610700, 4882336, 73703],\n",
            "              'boundsConforming': [             -11752670,\n",
            "                                                4750545,\n",
            "                                                1136,\n",
            "                                                -11610701,\n",
            "                                                4872154,\n",
            "                                                4297],\n",
            "              'dataType': 'laszip',\n",
            "              'hierarchyType': 'json',\n",
            "              'points': 33711288742,\n",
            "              'schema': [             {             'name': 'X',\n",
            "                                                    'offset': -11681686,\n",
            "                                                    'scale': 0.001,\n",
            "                                                    'size': 4,\n",
            "                                                    'type': 'signed'},\n",
            "                                      {             'name': 'Y',\n",
            "                                                    'offset': 4811350,\n",
            "                                                    'scale': 0.001,\n",
            "                                                    'size': 4,\n",
            "                                                    'type': 'signed'},\n",
            "                                      {             'name': 'Z',\n",
            "                                                    'offset': 2716,\n",
            "                                                    'scale': 0.001,\n",
            "                                                    'size': 4,\n",
            "                                                    'type': 'signed'},\n",
            "                                      {             'name': 'Intensity',\n",
            "                                                    'size': 2,\n",
            "                                                    'type': 'unsigned'},\n",
            "                                      {             'name': 'ReturnNumber',\n",
            "                                                    'size': 1,\n",
            "                                                    'type': 'unsigned'},\n",
            "                                      {             'name': 'NumberOfReturns',\n",
            "                                                    'size': 1,\n",
            "                                                    'type': 'unsigned'},\n",
            "                                      {             'name': 'ScanDirectionFlag',\n",
            "                                                    'size': 1,\n",
            "                                                    'type': 'unsigned'},\n",
            "                                      {             'name': 'EdgeOfFlightLine',\n",
            "                                                    'size': 1,\n",
            "                                                    'type': 'unsigned'},\n",
            "                                      {             'name': 'Classification',\n",
            "                                                    'size': 1,\n",
            "                                                    'type': 'unsigned'},\n",
            "                                      {             'name': 'ScanAngleRank',\n",
            "                                                    'size': 4,\n",
            "                                                    'type': 'float'},\n",
            "                                      {             'name': 'UserData',\n",
            "                                                    'size': 1,\n",
            "                                                    'type': 'unsigned'},\n",
            "                                      {             'name': 'PointSourceId',\n",
            "                                                    'size': 2,\n",
            "                                                    'type': 'unsigned'},\n",
            "                                      {             'name': 'GpsTime',\n",
            "                                                    'size': 8,\n",
            "                                                    'type': 'float'},\n",
            "                                      {             'name': 'OriginId',\n",
            "                                                    'size': 4,\n",
            "                                                    'type': 'unsigned'}],\n",
            "              'span': 256,\n",
            "              'srs': {             'authority': 'EPSG',\n",
            "                                   'horizontal': '3857',\n",
            "                                   'wkt': 'PROJCS[\"WGS 84 / '\n",
            "                                          'Pseudo-Mercator\",GEOGCS[\"WGS '\n",
            "                                          '84\",DATUM[\"WGS_1984\",SPHEROID[\"WGS '\n",
            "                                          '84\",6378137,298.257223563,AUTHORITY[\"EPSG\",\"7030\"]],AUTHORITY[\"EPSG\",\"6326\"]],PRIMEM[\"Greenwich\",0,AUTHORITY[\"EPSG\",\"8901\"]],UNIT[\"degree\",0.0174532925199433,AUTHORITY[\"EPSG\",\"9122\"]],AUTHORITY[\"EPSG\",\"4326\"]],PROJECTION[\"Mercator_1SP\"],PARAMETER[\"central_meridian\",0],PARAMETER[\"scale_factor\",1],PARAMETER[\"false_easting\",0],PARAMETER[\"false_northing\",0],UNIT[\"metre\",1,AUTHORITY[\"EPSG\",\"9001\"]],AXIS[\"X\",EAST],AXIS[\"Y\",NORTH],EXTENSION[\"PROJ4\",\"+proj=merc '\n",
            "                                          '+a=6378137 +b=6378137 +lat_ts=0.0 '\n",
            "                                          '+lon_0=0.0 +x_0=0.0 +y_0=0 +k=1.0 '\n",
            "                                          '+units=m +nadgrids=@null +wktext '\n",
            "                                          '+no_defs\"],AUTHORITY[\"EPSG\",\"3857\"]]'},\n",
            "              'version': '1.1.0'}\n"
          ]
        }
      ],
      "metadata": {}
    },
    {
      "cell_type": "markdown",
      "source": [
        "#### We can see from the json file that the ept.json file is indexed with 33711288742 points. The data is compressed using laszip which is a laz file format."
      ],
      "metadata": {}
    },
    {
      "cell_type": "code",
      "execution_count": 3,
      "source": [
        "import numpy as np\n",
        "import pylas\n",
        "\n",
        "with pylas.open('data/6-50-20-32.laz') as fh:\n",
        "    print('Points from Header:', fh.header.point_count)\n",
        "    las = fh.read()\n",
        "    print(las)\n",
        "    print('Points from data:', len(las.points))\n",
        "    ground_pts = las.classification == 2\n",
        "    bins, counts = np.unique(las.return_number[ground_pts], return_counts=True)\n",
        "    print('Ground Point Return Number distribution:')\n",
        "    for r,c in zip(bins,counts):\n",
        "        print('    {}:{}'.format(r,c))"
      ],
      "outputs": [
        {
          "output_type": "stream",
          "name": "stdout",
          "text": [
            "Points from Header: 46853\n",
            "<LasData(1.2, point fmt: <PointFormat(1)>, 46853 points, 3 vlrs)>\n",
            "Points from data: 46853\n",
            "Ground Point Return Number distribution:\n",
            "    1:20731\n",
            "    2:779\n",
            "    3:25\n",
            "    4:2\n"
          ]
        }
      ],
      "metadata": {}
    },
    {
      "cell_type": "markdown",
      "source": [
        "## Define the Pipeline"
      ],
      "metadata": {}
    },
    {
      "cell_type": "code",
      "execution_count": 4,
      "source": [
        "pipeline_def = [\n",
        "    {\n",
        "        \"type\": \"readers.ept\",\n",
        "        \"bounds\": \"\",\n",
        "        \"filename\": \"\",\n",
        "        \"tag\":\"read_data\"\n",
        "    },\n",
        "    {\n",
        "        \"type\":\"writers.text\",\n",
        "        \"format\":\"geojson\",\n",
        "        \"order\":\"X,Y,Z\",\n",
        "        \"keep_unspecified\":\"false\",\n",
        "        \"filename\":\"outputfile.txt\"\n",
        "    }\n",
        "]"
      ],
      "outputs": [],
      "metadata": {}
    },
    {
      "cell_type": "code",
      "execution_count": null,
      "source": [
        "fd = FetchData(public_data_path = \"https://s3-us-west-2.amazonaws.com/usgs-lidar-public/\",\n",
        "region = 'USGS_LPC_CO_SoPlatteRiver_Lot5_2013_LAS_2015/',pipeline_def= pipeline_def,\n",
        "bounds = \"([-11669524.7,-11666600],[4776607.3,4778714])\"\n",
        ")\n",
        "\n"
      ],
      "outputs": [],
      "metadata": {
        "id": "o9AoblnnBCBr"
      }
    },
    {
      "cell_type": "code",
      "execution_count": null,
      "source": [],
      "outputs": [],
      "metadata": {
        "id": "_fW9ZJ6FeXLe"
      }
    },
    {
      "cell_type": "code",
      "execution_count": null,
      "source": [],
      "outputs": [],
      "metadata": {}
    }
  ]
}