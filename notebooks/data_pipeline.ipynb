{
  "nbformat": 4,
  "nbformat_minor": 2,
  "metadata": {
    "colab": {
      "name": "data_pipeline.ipynb",
      "provenance": []
    },
    "kernelspec": {
      "name": "python3",
      "display_name": "Python 3.9.6 64-bit ('pdal_env': conda)"
    },
    "language_info": {
      "name": "python",
      "version": "3.9.6",
      "mimetype": "text/x-python",
      "codemirror_mode": {
        "name": "ipython",
        "version": 3
      },
      "pygments_lexer": "ipython3",
      "nbconvert_exporter": "python",
      "file_extension": ".py"
    },
    "interpreter": {
      "hash": "3a9ddf25b68034d685e0c5d6dccf9a06cbbe294eb015eaaaaa3ba9f5130cd160"
    }
  },
  "cells": [
    {
      "cell_type": "markdown",
      "source": [
        "# Fetch Data"
      ],
      "metadata": {}
    },
    {
      "cell_type": "code",
      "execution_count": 1,
      "source": [
        "import sys\n",
        "import os\n",
        "sys.path.append(os.path.abspath(os.path.join('../')))\n",
        "import pdal\n",
        "import json\n",
        "from scripts.data_fetcher import FetchData\n",
        "import geopandas as gpd\n",
        "from shapely.geometry import Polygon\n",
        "import pprint\n",
        "pp = pprint.PrettyPrinter(indent=14)\n"
      ],
      "outputs": [],
      "metadata": {
        "colab": {
          "base_uri": "https://localhost:8080/",
          "height": 476
        },
        "id": "Kk0_-KMsAI6w",
        "outputId": "17583181-1f26-4c0e-a099-3f882598a8af"
      }
    },
    {
      "cell_type": "markdown",
      "source": [
        "## Explore the data \n",
        "Taking a sample laz and ept.json file to explore what is inside"
      ],
      "metadata": {}
    },
    {
      "cell_type": "code",
      "execution_count": 3,
      "source": [
        "with open(\"../data/ept.json\",'r') as ept_file:\n",
        "    ept_json = json.load(ept_file)\n",
        "\n",
        "pp.pprint(ept_json)\n"
      ],
      "outputs": [
        {
          "output_type": "stream",
          "name": "stdout",
          "text": [
            "{             'bounds': [-16816671, 11131304, -6851, -16801711, 11146264, 8109],\n",
            "              'boundsConforming': [             -16813353,\n",
            "                                                11131305,\n",
            "                                                -28,\n",
            "                                                -16805029,\n",
            "                                                11146262,\n",
            "                                                1286],\n",
            "              'dataType': 'laszip',\n",
            "              'hierarchyType': 'json',\n",
            "              'points': 298602840,\n",
            "              'schema': [             {             'name': 'X',\n",
            "                                                    'offset': -16809191,\n",
            "                                                    'scale': 0.01,\n",
            "                                                    'size': 4,\n",
            "                                                    'type': 'signed'},\n",
            "                                      {             'name': 'Y',\n",
            "                                                    'offset': 11138784,\n",
            "                                                    'scale': 0.01,\n",
            "                                                    'size': 4,\n",
            "                                                    'type': 'signed'},\n",
            "                                      {             'name': 'Z',\n",
            "                                                    'offset': 629,\n",
            "                                                    'scale': 0.01,\n",
            "                                                    'size': 4,\n",
            "                                                    'type': 'signed'},\n",
            "                                      {             'name': 'Intensity',\n",
            "                                                    'size': 2,\n",
            "                                                    'type': 'unsigned'},\n",
            "                                      {             'name': 'ReturnNumber',\n",
            "                                                    'size': 1,\n",
            "                                                    'type': 'unsigned'},\n",
            "                                      {             'name': 'NumberOfReturns',\n",
            "                                                    'size': 1,\n",
            "                                                    'type': 'unsigned'},\n",
            "                                      {             'name': 'ScanDirectionFlag',\n",
            "                                                    'size': 1,\n",
            "                                                    'type': 'unsigned'},\n",
            "                                      {             'name': 'EdgeOfFlightLine',\n",
            "                                                    'size': 1,\n",
            "                                                    'type': 'unsigned'},\n",
            "                                      {             'name': 'Classification',\n",
            "                                                    'size': 1,\n",
            "                                                    'type': 'unsigned'},\n",
            "                                      {             'name': 'ScanAngleRank',\n",
            "                                                    'size': 4,\n",
            "                                                    'type': 'float'},\n",
            "                                      {             'name': 'UserData',\n",
            "                                                    'size': 1,\n",
            "                                                    'type': 'unsigned'},\n",
            "                                      {             'name': 'PointSourceId',\n",
            "                                                    'size': 2,\n",
            "                                                    'type': 'unsigned'},\n",
            "                                      {             'name': 'GpsTime',\n",
            "                                                    'size': 8,\n",
            "                                                    'type': 'float'},\n",
            "                                      {             'name': 'ScanChannel',\n",
            "                                                    'size': 1,\n",
            "                                                    'type': 'unsigned'},\n",
            "                                      {             'name': 'ClassFlags',\n",
            "                                                    'size': 1,\n",
            "                                                    'type': 'unsigned'}],\n",
            "              'span': 128,\n",
            "              'srs': {             'authority': 'EPSG',\n",
            "                                   'horizontal': '3857',\n",
            "                                   'wkt': 'PROJCS[\"WGS 84 / '\n",
            "                                          'Pseudo-Mercator\",GEOGCS[\"WGS '\n",
            "                                          '84\",DATUM[\"WGS_1984\",SPHEROID[\"WGS '\n",
            "                                          '84\",6378137,298.257223563,AUTHORITY[\"EPSG\",\"7030\"]],AUTHORITY[\"EPSG\",\"6326\"]],PRIMEM[\"Greenwich\",0,AUTHORITY[\"EPSG\",\"8901\"]],UNIT[\"degree\",0.0174532925199433,AUTHORITY[\"EPSG\",\"9122\"]],AUTHORITY[\"EPSG\",\"4326\"]],PROJECTION[\"Mercator_1SP\"],PARAMETER[\"central_meridian\",0],PARAMETER[\"scale_factor\",1],PARAMETER[\"false_easting\",0],PARAMETER[\"false_northing\",0],UNIT[\"metre\",1,AUTHORITY[\"EPSG\",\"9001\"]],AXIS[\"X\",EAST],AXIS[\"Y\",NORTH],EXTENSION[\"PROJ4\",\"+proj=merc '\n",
            "                                          '+a=6378137 +b=6378137 +lat_ts=0.0 '\n",
            "                                          '+lon_0=0.0 +x_0=0.0 +y_0=0 +k=1.0 '\n",
            "                                          '+units=m +nadgrids=@null +wktext '\n",
            "                                          '+no_defs\"],AUTHORITY[\"EPSG\",\"3857\"]]'},\n",
            "              'version': '1.1.0'}\n"
          ]
        }
      ],
      "metadata": {}
    },
    {
      "cell_type": "markdown",
      "source": [
        "#### We can see from the json file that the ept.json file is indexed with 33711288742 points. The data is compressed using laszip which is a laz file format."
      ],
      "metadata": {}
    },
    {
      "cell_type": "code",
      "execution_count": 5,
      "source": [
        "import numpy as np\n",
        "import pylas\n",
        "\n",
        "with pylas.open('../data/6-50-20-32.laz') as fh:\n",
        "    print('Points from Header:', fh.header.point_count)\n",
        "    las = fh.read()\n",
        "    print(las)\n",
        "    print('Points from data:', len(las.points))\n",
        "    ground_pts = las.classification == 2\n",
        "    bins, counts = np.unique(las.return_number[ground_pts], return_counts=True)\n",
        "    print('Ground Point Return Number distribution:')\n",
        "    for r,c in zip(bins,counts):\n",
        "        print('    {}:{}'.format(r,c))"
      ],
      "outputs": [
        {
          "output_type": "stream",
          "name": "stdout",
          "text": [
            "Points from Header: 46853\n",
            "<LasData(1.2, point fmt: <PointFormat(1)>, 46853 points, 3 vlrs)>\n",
            "Points from data: 46853\n",
            "Ground Point Return Number distribution:\n",
            "    1:20731\n",
            "    2:779\n",
            "    3:25\n",
            "    4:2\n"
          ]
        }
      ],
      "metadata": {}
    },
    {
      "cell_type": "markdown",
      "source": [
        "## Prepare the input"
      ],
      "metadata": {}
    },
    {
      "cell_type": "code",
      "execution_count": 9,
      "source": [
        "def prepare_input(polygon_boundaries):\n",
        "    MINX, MINY, MAXX, MAXY = polygon_boundaries\n",
        "    polygon = Polygon(((MINX, MINY), (MINX, MAXY), (MAXX, MAXY), (MAXX, MINY), (MINX, MINY)))\n",
        "\n",
        "    grid = gpd.GeoDataFrame([polygon], columns=[\"geometry\"])\n",
        "    grid.set_crs(epsg=4326, inplace=True)\n",
        "    return str(grid.loc[0,\"geometry\"])\n",
        "\n",
        "polygon_bound = prepare_input([-93.756155, 41.918015, -93.747334, 41.921429])"
      ],
      "outputs": [],
      "metadata": {}
    },
    {
      "cell_type": "code",
      "execution_count": 10,
      "source": [
        "polygon_bound"
      ],
      "outputs": [
        {
          "output_type": "execute_result",
          "data": {
            "text/plain": [
              "'POLYGON ((-93.75615500000001 41.918015, -93.75615500000001 41.921429, -93.747334 41.921429, -93.747334 41.918015, -93.75615500000001 41.918015))'"
            ]
          },
          "metadata": {},
          "execution_count": 10
        }
      ],
      "metadata": {}
    },
    {
      "cell_type": "code",
      "execution_count": 12,
      "source": [
        "fd = FetchData(public_data_path = \"https://s3-us-west-2.amazonaws.com/usgs-lidar-public/\",\n",
        "region = \"IA_FullState/\",polygon_bound = polygon_bound)\n",
        "\n"
      ],
      "outputs": [],
      "metadata": {
        "id": "o9AoblnnBCBr"
      }
    },
    {
      "cell_type": "code",
      "execution_count": null,
      "source": [],
      "outputs": [],
      "metadata": {
        "id": "_fW9ZJ6FeXLe"
      }
    },
    {
      "cell_type": "code",
      "execution_count": null,
      "source": [],
      "outputs": [],
      "metadata": {}
    }
  ]
}